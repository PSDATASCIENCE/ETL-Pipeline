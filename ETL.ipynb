{
 "cells": [
  {
   "cell_type": "code",
   "execution_count": null,
   "id": "4bf06d20",
   "metadata": {},
   "outputs": [],
   "source": [
    "#Data Extraction\n",
    "\n",
    "import glob\n",
    "import pandas as pd\n",
    "import xml.etree.ElementTree as ET\n",
    "from datetime import datetime\n",
    "log_file = \"log_file.txt\"\n",
    "target_file = \"transformed_data.csv\"\n",
    "def extract_from_csv(file_to_process):\n",
    "    dataframe = pd.read_csv(file_to_process)\n",
    "    return dataframe\n",
    "def extract_from_json(file_to_process):\n",
    "    dataframe = pd.read_json(file_to_process,lines=True)\n",
    "    return dataframe\n",
    "def extract_from_xml(file_to_process):\n",
    "    dataframe = pd.DataFrame(columns=[\"name\",\"height\",\"weight\"])\n",
    "    tree = ET.parse(file_to_process)\n",
    "    root = tree.getroot()\n",
    "    for person in root:\n",
    "        name = person.find(\"name\").text\n",
    "        height = float(person.find(\"height\").text)\n",
    "        weight = float(person.find(\"weight\").text)\n",
    "        dataframe = pd.concat([dataframe,pd.DataFrame([{\"name\":name,\"height\":height,\"weight\":weight}])],ignore_index=True)\n",
    "    return dataframe\n",
    "def extract():\n",
    "    extracted_data = pd.DataFrame(columns=['name','height','weight'])\n",
    "    for csvfile in glob.glob(\"*.csv\"):\n",
    "        extracted_data = pd.concat([extracted_data,pd.DataFrame(extract_from_csv(csvfile))],ignore_index=True)\n",
    "    for jsonfile in glob.glob(\"*.json\"):\n",
    "        extracted_data = pd.concat([extracted_data,pd.DataFrame(extract_from_json(jsonfile))].ignore_index=True)\n",
    "    for xmlfile in glob.glob(\"*xml\"):\n",
    "        extracted_data = pd.concat([extracted_data,pd.DataFrame(extract_from_xml(xmlfile))],ignore_index=True)\n",
    "    return extracted_data"
   ]
  },
  {
   "cell_type": "markdown",
   "id": "b9c8adc5",
   "metadata": {},
   "source": [
    "Data Transform"
   ]
  },
  {
   "cell_type": "code",
   "execution_count": null,
   "id": "d19018b7",
   "metadata": {},
   "outputs": [],
   "source": [
    "def transform(data):\n",
    "    data['height'] = round(data.height*0.0254,2)\n",
    "    data['weight'] = round(data.weight*0.45359237,2)\n",
    "    return data\n"
   ]
  },
  {
   "cell_type": "markdown",
   "id": "d492965d",
   "metadata": {},
   "source": [
    "Data Load"
   ]
  },
  {
   "cell_type": "code",
   "execution_count": null,
   "id": "11c2104c",
   "metadata": {},
   "outputs": [],
   "source": [
    "def load_data(target_file,transformed_data):\n",
    "    transformed_data.to_csv(target_file)"
   ]
  },
  {
   "cell_type": "markdown",
   "id": "57c555ef",
   "metadata": {},
   "source": [
    "Logging function"
   ]
  },
  {
   "cell_type": "code",
   "execution_count": null,
   "id": "451261ab",
   "metadata": {},
   "outputs": [],
   "source": [
    "def log_progress(message):\n",
    "    timestamp_format = '%Y-%h-%d-%H:%M:%S'\n",
    "    now = datetime.now()\n",
    "    timestamp = now.strftime(timestamp_format) \n",
    "    with open(log_file,\"a\") as f:\n",
    "        f.write(timestamp+','+message+'\\n')"
   ]
  },
  {
   "cell_type": "code",
   "execution_count": null,
   "id": "f55fa79a",
   "metadata": {},
   "outputs": [],
   "source": [
    "# Log the initialization of the ETL process \n",
    "log_progress(\"ETL Job Started\") \n",
    " \n",
    "# Log the beginning of the Extraction process \n",
    "log_progress(\"Extract phase Started\") \n",
    "extracted_data = extract() \n",
    " \n",
    "# Log the completion of the Extraction process \n",
    "log_progress(\"Extract phase Ended\") \n",
    " \n",
    "# Log the beginning of the Transformation process \n",
    "log_progress(\"Transform phase Started\") \n",
    "transformed_data = transform(extracted_data) \n",
    "print(\"Transformed Data\") \n",
    "print(transformed_data) \n",
    " \n",
    "# Log the completion of the Transformation process \n",
    "log_progress(\"Transform phase Ended\") \n",
    " \n",
    "# Log the beginning of the Loading process \n",
    "log_progress(\"Load phase Started\") \n",
    "load_data(target_file,transformed_data) \n",
    " \n",
    "# Log the completion of the Loading process \n",
    "log_progress(\"Load phase Ended\") \n",
    " \n",
    "# Log the completion of the ETL process \n",
    "log_progress(\"ETL Job Ended\") "
   ]
  },
  {
   "cell_type": "markdown",
   "id": "98d672a5",
   "metadata": {},
   "source": [
    "https://cf-courses-data.s3.us.cloud-object-storage.appdomain.cloud/IBMDeveloperSkillsNetwork-PY0221EN-SkillsNetwork/labs/module%206/Lab%20-%20Extract%20Transform%20Load/data/datasource.zip "
   ]
  },
  {
   "cell_type": "markdown",
   "id": "5f9cfada",
   "metadata": {},
   "source": [
    "terminal command \n",
    "cd data_source\n",
    "wget https://cf-courses-data.s3.us.cloud-object-storage.appdomain.cloud/IBMDeveloperSkillsNetwork-PY0221EN-SkillsNetwork/labs/module%206/Lab%20-%20Extract%20Transform%20Load/data/datasource.zip \n",
    "unzip data source.zip\n"
   ]
  },
  {
   "cell_type": "code",
   "execution_count": null,
   "id": "8cf0c2ab",
   "metadata": {},
   "outputs": [],
   "source": [
    "    "
   ]
  }
 ],
 "metadata": {
  "kernelspec": {
   "display_name": "Python 3",
   "language": "python",
   "name": "python3"
  },
  "language_info": {
   "codemirror_mode": {
    "name": "ipython",
    "version": 3
   },
   "file_extension": ".py",
   "mimetype": "text/x-python",
   "name": "python",
   "nbconvert_exporter": "python",
   "pygments_lexer": "ipython3",
   "version": "3.8.8"
  }
 },
 "nbformat": 4,
 "nbformat_minor": 5
}
